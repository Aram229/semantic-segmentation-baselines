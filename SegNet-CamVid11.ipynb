{
 "cells": [
  {
   "cell_type": "code",
   "execution_count": null,
   "metadata": {
    "scrolled": true
   },
   "outputs": [],
   "source": [
    "import pandas as pd\n",
    "from keras.callbacks import EarlyStopping\n",
    "from keras.callbacks import ModelCheckpoint\n",
    "from keras.callbacks import LearningRateScheduler\n",
    "from tabulate import tabulate\n",
    "from src.datasets import camvid\n",
    "from src import evaluate\n",
    "from src import plot\n",
    "from src import predict\n",
    "from src import predict_video\n",
    "from src import segnet\n",
    "from src.callbacks import PlotMetrics\n",
    "from src.utils import history_to_results\n",
    "%matplotlib inline"
   ]
  },
  {
   "cell_type": "code",
   "execution_count": null,
   "metadata": {},
   "outputs": [],
   "source": [
    "weights_file = 'models/SegNet-CamVid11.h5'"
   ]
  },
  {
   "cell_type": "code",
   "execution_count": null,
   "metadata": {},
   "outputs": [],
   "source": [
    "# the batch size for training\n",
    "batch_size = 8\n",
    "# the size to crop images to\n",
    "crop_size = (352, 480)"
   ]
  },
  {
   "cell_type": "markdown",
   "metadata": {},
   "source": [
    "# Training"
   ]
  },
  {
   "cell_type": "code",
   "execution_count": null,
   "metadata": {},
   "outputs": [],
   "source": [
    "camvid11 = camvid.CamVid(\n",
    "    mapping=camvid.CamVid.load_mapping(), \n",
    "    target_size=(360, 480), \n",
    "    crop_size=crop_size, \n",
    "    batch_size=batch_size, \n",
    "    ignored_labels=['Void'],\n",
    ")\n",
    "generators = camvid11.generators()"
   ]
  },
  {
   "cell_type": "code",
   "execution_count": null,
   "metadata": {
    "scrolled": false
   },
   "outputs": [],
   "source": [
    "# get the next X, y training tuple\n",
    "X, y = next(generators['train'])\n",
    "# transform the onehot vector to an image\n",
    "y = camvid11.unmap(y)\n",
    "# plot the images\n",
    "_ = plot.plot(X=X[0], y=y[0], order=['X', 'y'])"
   ]
  },
  {
   "cell_type": "code",
   "execution_count": null,
   "metadata": {
    "scrolled": true
   },
   "outputs": [],
   "source": [
    "# build the model for the image shape and number of labels\n",
    "model = segnet.segnet((*crop_size, 3), camvid11.n, camvid11.class_weights)\n",
    "model.summary()"
   ]
  },
  {
   "cell_type": "code",
   "execution_count": null,
   "metadata": {},
   "outputs": [],
   "source": [
    "# create the callbacks for the training procedure\n",
    "callbacks = [\n",
    "    EarlyStopping(monitor='loss', patience=10),\n",
    "    LearningRateScheduler(lambda _, lr: 0.95 * lr),\n",
    "    ModelCheckpoint(weights_file, \n",
    "        monitor='val_categorical_accuracy', \n",
    "        save_best_only=True, \n",
    "        save_weights_only=True, \n",
    "        mode='max',\n",
    "    ),\n",
    "    PlotMetrics(),\n",
    "]"
   ]
  },
  {
   "cell_type": "code",
   "execution_count": null,
   "metadata": {
    "scrolled": false
   },
   "outputs": [],
   "source": [
    "# fit the model with the data. divide the steps per epoch by the \n",
    "# batch size (which is 3 in this case)\n",
    "history = model.fit_generator(generators['train'],\n",
    "    epochs=100,\n",
    "    steps_per_epoch=int(367 / batch_size),\n",
    "    validation_data=generators['val'],\n",
    "    validation_steps=101,\n",
    "    callbacks=callbacks,\n",
    "    verbose=1,\n",
    ")"
   ]
  },
  {
   "cell_type": "code",
   "execution_count": null,
   "metadata": {},
   "outputs": [],
   "source": [
    "history_to_results(history)"
   ]
  },
  {
   "cell_type": "markdown",
   "metadata": {},
   "source": [
    "## Load Best Model"
   ]
  },
  {
   "cell_type": "code",
   "execution_count": null,
   "metadata": {
    "scrolled": false
   },
   "outputs": [],
   "source": [
    "model.load_weights(weights_file)"
   ]
  },
  {
   "cell_type": "markdown",
   "metadata": {},
   "source": [
    "# Test Metrics"
   ]
  },
  {
   "cell_type": "code",
   "execution_count": null,
   "metadata": {},
   "outputs": [],
   "source": [
    "metrics = evaluate.evaluate(model, generators['test'], 233,\n",
    "    mask=camvid11.class_mask, \n",
    "    code_map=camvid11.discrete_to_label_map,\n",
    ")\n",
    "metrics.to_csv(weights_file + '.csv')\n",
    "metrics"
   ]
  },
  {
   "cell_type": "code",
   "execution_count": null,
   "metadata": {},
   "outputs": [],
   "source": [
    "print(tabulate(metrics, tablefmt='pipe', headers=('Metric', 'Value')))"
   ]
  },
  {
   "cell_type": "markdown",
   "metadata": {},
   "source": [
    "# Qualitative Results"
   ]
  },
  {
   "cell_type": "markdown",
   "metadata": {},
   "source": [
    "### Train"
   ]
  },
  {
   "cell_type": "code",
   "execution_count": null,
   "metadata": {},
   "outputs": [],
   "source": [
    "X, y, p = predict.predict(model, generators['train'], camvid11)"
   ]
  },
  {
   "cell_type": "code",
   "execution_count": null,
   "metadata": {},
   "outputs": [],
   "source": [
    "_ = plot.plot(X=X[0], y=y[0], y_pred=p[0], order=['X', 'y', 'y_pred'])"
   ]
  },
  {
   "cell_type": "code",
   "execution_count": null,
   "metadata": {},
   "outputs": [],
   "source": [
    "_ = plot.plot(X=X[1], y=y[1], y_pred=p[1], order=['X', 'y', 'y_pred'])"
   ]
  },
  {
   "cell_type": "code",
   "execution_count": null,
   "metadata": {},
   "outputs": [],
   "source": [
    "_ = plot.plot(X=X[2], y=y[2], y_pred=p[2], order=['X', 'y', 'y_pred'])"
   ]
  },
  {
   "cell_type": "code",
   "execution_count": null,
   "metadata": {},
   "outputs": [],
   "source": [
    "_ = plot.plot(X=X[3], y=y[3], y_pred=p[3], order=['X', 'y', 'y_pred'])"
   ]
  },
  {
   "cell_type": "markdown",
   "metadata": {},
   "source": [
    "### Validation"
   ]
  },
  {
   "cell_type": "code",
   "execution_count": null,
   "metadata": {},
   "outputs": [],
   "source": [
    "X, y, p = predict.predict(model, generators['val'], camvid11)\n",
    "_ = plot.plot(X=X[0], y=y[0], y_pred=p[0], order=['X', 'y', 'y_pred'])"
   ]
  },
  {
   "cell_type": "code",
   "execution_count": null,
   "metadata": {},
   "outputs": [],
   "source": [
    "X, y, p = predict.predict(model, generators['val'], camvid11)\n",
    "_ = plot.plot(X=X[0], y=y[0], y_pred=p[0], order=['X', 'y', 'y_pred'])"
   ]
  },
  {
   "cell_type": "code",
   "execution_count": null,
   "metadata": {},
   "outputs": [],
   "source": [
    "X, y, p = predict.predict(model, generators['val'], camvid11)\n",
    "_ = plot.plot(X=X[0], y=y[0], y_pred=p[0], order=['X', 'y', 'y_pred'])"
   ]
  },
  {
   "cell_type": "code",
   "execution_count": null,
   "metadata": {},
   "outputs": [],
   "source": [
    "X, y, p = predict.predict(model, generators['val'], camvid11)\n",
    "_ = plot.plot(X=X[0], y=y[0], y_pred=p[0], order=['X', 'y', 'y_pred'])"
   ]
  },
  {
   "cell_type": "markdown",
   "metadata": {},
   "source": [
    "### Test"
   ]
  },
  {
   "cell_type": "code",
   "execution_count": null,
   "metadata": {},
   "outputs": [],
   "source": [
    "X, y, p = predict.predict(model, generators['test'], camvid11)\n",
    "fig = plot.plot(X=X[0], y=y[0], y_pred=p[0], order=['X', 'y', 'y_pred'])\n",
    "fig.savefig('img/segnet/0.png', transparent=True, bbox_inches='tight')"
   ]
  },
  {
   "cell_type": "code",
   "execution_count": null,
   "metadata": {},
   "outputs": [],
   "source": [
    "X, y, p = predict.predict(model, generators['test'], camvid11)\n",
    "fig = plot.plot(X=X[0], y=y[0], y_pred=p[0], order=['X', 'y', 'y_pred'])\n",
    "fig.savefig('img/segnet/1.png', transparent=True, bbox_inches='tight')"
   ]
  },
  {
   "cell_type": "code",
   "execution_count": null,
   "metadata": {},
   "outputs": [],
   "source": [
    "X, y, p = predict.predict(model, generators['test'], camvid11)\n",
    "fig = plot.plot(X=X[0], y=y[0], y_pred=p[0], order=['X', 'y', 'y_pred'])\n",
    "fig.savefig('img/segnet/2.png', transparent=True, bbox_inches='tight')"
   ]
  },
  {
   "cell_type": "code",
   "execution_count": null,
   "metadata": {},
   "outputs": [],
   "source": [
    "X, y, p = predict.predict(model, generators['test'], camvid11)\n",
    "fig = plot.plot(X=X[0], y=y[0], y_pred=p[0], order=['X', 'y', 'y_pred'])\n",
    "fig.savefig('img/segnet/3.png', transparent=True, bbox_inches='tight')"
   ]
  },
  {
   "cell_type": "markdown",
   "metadata": {},
   "source": [
    "# Video"
   ]
  },
  {
   "cell_type": "code",
   "execution_count": null,
   "metadata": {},
   "outputs": [],
   "source": [
    "video_file = '0005VD.mp4'\n",
    "video_path = camvid.videos.abs_path(video_file)\n",
    "out_path = 'img/segnet/{}'.format(video_file)"
   ]
  },
  {
   "cell_type": "code",
   "execution_count": null,
   "metadata": {},
   "outputs": [],
   "source": [
    "predict_video.predict_video(video_path, out_path, camvid11, model, predict.predict)"
   ]
  },
  {
   "cell_type": "markdown",
   "metadata": {},
   "source": [
    " "
   ]
  }
 ],
 "metadata": {
  "kernelspec": {
   "display_name": "Python 3.6 [python/3.6 cuda/8.0.44]",
   "language": "python",
   "name": "sys_python36"
  },
  "language_info": {
   "codemirror_mode": {
    "name": "ipython",
    "version": 3
   },
   "file_extension": ".py",
   "mimetype": "text/x-python",
   "name": "python",
   "nbconvert_exporter": "python",
   "pygments_lexer": "ipython3",
   "version": "3.6.3"
  }
 },
 "nbformat": 4,
 "nbformat_minor": 2
}
