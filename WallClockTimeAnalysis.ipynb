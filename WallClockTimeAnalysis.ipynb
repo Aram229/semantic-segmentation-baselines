{
 "cells": [
  {
   "cell_type": "code",
   "execution_count": null,
   "metadata": {
    "scrolled": true
   },
   "outputs": [],
   "source": [
    "import timeit\n",
    "from keras import backend as K\n",
    "import matplotlib.pyplot as plt\n",
    "import numpy as np\n",
    "import pandas as pd\n",
    "from tabulate import tabulate\n",
    "from src.datasets import camvid\n",
    "from src import plot\n",
    "from src import segnet\n",
    "from src.tiramisu import tiramisu\n",
    "from src.tiramisu import aleatoric_tiramisu\n",
    "from src.tiramisu import epi_approx_tiramisu\n",
    "from src import wrappers\n",
    "%matplotlib inline"
   ]
  },
  {
   "cell_type": "code",
   "execution_count": null,
   "metadata": {},
   "outputs": [],
   "source": [
    "# the size to crop images to\n",
    "crop_size = (352, 480)"
   ]
  },
  {
   "cell_type": "markdown",
   "metadata": {},
   "source": [
    "# Data"
   ]
  },
  {
   "cell_type": "code",
   "execution_count": null,
   "metadata": {},
   "outputs": [],
   "source": [
    "camvid11 = camvid.CamVid(\n",
    "    mapping=camvid.CamVid.load_mapping(),\n",
    "    target_size=(360, 480),\n",
    "    crop_size=crop_size,\n",
    "    ignored_labels=['Void'],\n",
    ")\n",
    "generators = camvid11.generators()"
   ]
  },
  {
   "cell_type": "code",
   "execution_count": null,
   "metadata": {
    "scrolled": false
   },
   "outputs": [],
   "source": [
    "# get the next X, y training tuple\n",
    "X, y = next(generators['test'])\n",
    "# transform the onehot vector to an image\n",
    "y = camvid11.unmap(y)\n",
    "# plot the images\n",
    "_ = plot.plot(X=X[0], y=y[0], order=['X', 'y'])"
   ]
  },
  {
   "cell_type": "markdown",
   "metadata": {},
   "source": [
    "# Build Models"
   ]
  },
  {
   "cell_type": "code",
   "execution_count": null,
   "metadata": {},
   "outputs": [],
   "source": [
    "def new_keras_session(build_model):\n",
    "    \"\"\"A decorator to clear the Keras session and build a model.\"\"\"\n",
    "    def _new_keras_session(*args, **kwargs):\n",
    "        # clear the Keras session\n",
    "        K.clear_session()\n",
    "        # call the method to build a Keras model\n",
    "        return build_model(*args, **kwargs)\n",
    "    # reset the name of the method to the original name\n",
    "    _new_keras_session.__name__ = build_model.__name__\n",
    "\n",
    "    return _new_keras_session"
   ]
  },
  {
   "cell_type": "code",
   "execution_count": null,
   "metadata": {},
   "outputs": [],
   "source": [
    "@new_keras_session\n",
    "def build_segnet():\n",
    "    \"\"\"Return a trained SegNet model.\"\"\"\n",
    "    return segnet.segnet((*crop_size, 3), camvid11.n, camvid11.class_weights)"
   ]
  },
  {
   "cell_type": "code",
   "execution_count": null,
   "metadata": {},
   "outputs": [],
   "source": [
    "@new_keras_session\n",
    "def build_baysiean_segnet():\n",
    "    \"\"\"Return a trained Bayesian SegNet model.\"\"\"\n",
    "    model = segnet.segnet((*crop_size, 3), camvid11.n, camvid11.class_weights, dropout_rate=0.5)\n",
    "    return wrappers.MonteCarlo(model, 50)"
   ]
  },
  {
   "cell_type": "code",
   "execution_count": null,
   "metadata": {},
   "outputs": [],
   "source": [
    "@new_keras_session\n",
    "def build_tiramisu_56():\n",
    "    \"\"\"Return a trained Tiramisu (103 layers) model.\"\"\"\n",
    "    return tiramisu.tiramisu((*crop_size, 3), camvid11.n, camvid11.class_mask,\n",
    "        growth_rate=12,\n",
    "        layer_sizes=[4, 4, 4, 4, 4],\n",
    "        bottleneck_size=4,\n",
    "    )"
   ]
  },
  {
   "cell_type": "code",
   "execution_count": null,
   "metadata": {},
   "outputs": [],
   "source": [
    "@new_keras_session\n",
    "def build_tiramisu_67():\n",
    "    \"\"\"Return a trained Tiramisu (103 layers) model.\"\"\"\n",
    "    return tiramisu.tiramisu((*crop_size, 3), camvid11.n, camvid11.class_mask,\n",
    "        growth_rate=16,\n",
    "        layer_sizes=[5, 5, 5, 5, 5],\n",
    "        bottleneck_size=5,\n",
    "    )"
   ]
  },
  {
   "cell_type": "code",
   "execution_count": null,
   "metadata": {},
   "outputs": [],
   "source": [
    "@new_keras_session\n",
    "def build_tiramisu_103():\n",
    "    \"\"\"Return a trained Tiramisu (103 layers) model.\"\"\"\n",
    "    return tiramisu.tiramisu((*crop_size, 3), camvid11.n, camvid11.class_mask)"
   ]
  },
  {
   "cell_type": "code",
   "execution_count": null,
   "metadata": {},
   "outputs": [],
   "source": [
    "@new_keras_session\n",
    "def build_aleatoric_tiramisu_103():\n",
    "    \"\"\"Return a trained Tiramisu (103 layers) model.\"\"\"\n",
    "    return aleatoric_tiramisu.aleatoric_tiramisu((*crop_size, 3), camvid11.n, camvid11.class_mask)"
   ]
  },
  {
   "cell_type": "code",
   "execution_count": null,
   "metadata": {},
   "outputs": [],
   "source": [
    "@new_keras_session\n",
    "def build_epistemic_tiramisu_103():\n",
    "    \"\"\"Return a trained Tiramisu (103 layers) model.\"\"\"\n",
    "    model = tiramisu.tiramisu((*crop_size, 3), camvid11.n, camvid11.class_mask, mc_dropout=True)\n",
    "    return wrappers.MonteCarlo(model, 50)"
   ]
  },
  {
   "cell_type": "code",
   "execution_count": null,
   "metadata": {},
   "outputs": [],
   "source": [
    "@new_keras_session\n",
    "def build_epistemic_approx_tiramisu_103():\n",
    "    \"\"\"Return a trained Tiramisu (103 layers) model.\"\"\"\n",
    "    return epi_approx_tiramisu.epi_approx_tiramisu((*crop_size, 3), camvid11.n, camvid11.class_mask)"
   ]
  },
  {
   "cell_type": "markdown",
   "metadata": {},
   "source": [
    "# Time Tests"
   ]
  },
  {
   "cell_type": "code",
   "execution_count": null,
   "metadata": {},
   "outputs": [],
   "source": [
    "def time_test(model, repeat: int=7) -> pd.Series:\n",
    "    \"\"\"\n",
    "    Run a prediction time test for the given model.\n",
    "\n",
    "    Args:\n",
    "        repeat: the number of trials to generate mean and std time\n",
    "\n",
    "    Returns:\n",
    "        a series with the:\n",
    "        - mean of the repeat trials\n",
    "        - standard deviation of the repeat trials\n",
    "\n",
    "    \"\"\"\n",
    "    # run time trials for the number of repetitions + 1\n",
    "    times = timeit.repeat(lambda: model.predict(X), repeat=repeat + 1, number=1)\n",
    "    # throw out the first time that usually is anomalous\n",
    "    times = pd.Series(times[1:])\n",
    "    # return a series with the data\n",
    "    return pd.Series([times.mean(), times.std()], index=['mean', 'std'])"
   ]
  },
  {
   "cell_type": "code",
   "execution_count": null,
   "metadata": {},
   "outputs": [],
   "source": [
    "# generate a dataframe of results for each model in ms\n",
    "results = pd.DataFrame({\n",
    "    'SegNet': time_test(build_segnet()),\n",
    "    'Bayesian-SegNet': time_test(build_baysiean_segnet()),\n",
    "    'Tiramisu-56': time_test(build_tiramisu_56()),\n",
    "    'Tiramisu-67': time_test(build_tiramisu_67()),\n",
    "    'Tiramisu-103': time_test(build_tiramisu_103()),\n",
    "    'Tiramisu-103 (Aleatoric)': time_test(build_aleatoric_tiramisu_103()),\n",
    "    'Tiramisu-103 (Epistemic)': time_test(build_epistemic_tiramisu_103()),\n",
    "    'Tiramisu-103 (Epistemic Approximation)': time_test(build_epistemic_approx_tiramisu_103()),\n",
    "}).T.sort_values('mean').T * 1000\n",
    "results.T.to_csv('models/wall-clock-time-analysis.csv')"
   ]
  },
  {
   "cell_type": "code",
   "execution_count": null,
   "metadata": {},
   "outputs": [],
   "source": [
    "results.T"
   ]
  },
  {
   "cell_type": "code",
   "execution_count": null,
   "metadata": {},
   "outputs": [],
   "source": [
    "print(tabulate(results.T, tablefmt='pipe', headers=('Model', 'Mean (ms)', 'SD. (ms)')))"
   ]
  },
  {
   "cell_type": "code",
   "execution_count": null,
   "metadata": {},
   "outputs": [],
   "source": [
    "models = ['SegNet', 'Tiramisu-56', 'Tiramisu-67', 'Tiramisu-103']\n",
    "ax = results[models].plot.box(figsize=(16, 8))\n",
    "ax.set_xlabel('Model')\n",
    "ax.set_ylabel('Wall Clock Time (ms)')\n",
    "ax.set_title('Prediction Time of Segmentation Models (Deterministic Inference) on Images of Size 352 x 480')\n",
    "plt.savefig('img/inference-time.png', transparent=True, bbox_inches='tight')"
   ]
  },
  {
   "cell_type": "code",
   "execution_count": null,
   "metadata": {},
   "outputs": [],
   "source": [
    "bayesian = ['Bayesian-SegNet', 'Tiramisu-103 (Epistemic)']\n",
    "ax = results[bayesian].plot.box(figsize=(16, 8))\n",
    "ax.set_xlabel('Model')\n",
    "ax.set_ylabel('Wall Clock Time (ms)')\n",
    "ax.set_title('Prediction Time of Segmentation Models (Monte Carlo Dropout) on Images of Size 352 x 480')\n",
    "plt.savefig('img/inference-time-mc-dropout.png', transparent=True, bbox_inches='tight')"
   ]
  },
  {
   "cell_type": "markdown",
   "metadata": {},
   "source": [
    " "
   ]
  }
 ],
 "metadata": {
  "kernelspec": {
   "display_name": "Python 3",
   "language": "python",
   "name": "python3"
  },
  "language_info": {
   "codemirror_mode": {
    "name": "ipython",
    "version": 3
   },
   "file_extension": ".py",
   "mimetype": "text/x-python",
   "name": "python",
   "nbconvert_exporter": "python",
   "pygments_lexer": "ipython3",
   "version": "3.6.4"
  }
 },
 "nbformat": 4,
 "nbformat_minor": 2
}
