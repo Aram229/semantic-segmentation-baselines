{
 "cells": [
  {
   "cell_type": "code",
   "execution_count": 1,
   "metadata": {
    "scrolled": false
   },
   "outputs": [
    {
     "name": "stderr",
     "output_type": "stream",
     "text": [
      "Using TensorFlow backend.\n",
      "/usr/local/anaconda5/lib/python3.6/importlib/_bootstrap.py:219: RuntimeWarning: compiletime version 3.5 of module 'tensorflow.python.framework.fast_tensor_util' does not match runtime version 3.6\n",
      "  return f(*args, **kwds)\n"
     ]
    }
   ],
   "source": [
    "import timeit\n",
    "from keras import backend as K\n",
    "import matplotlib.pyplot as plt\n",
    "import pandas as pd\n",
    "import numpy as np\n",
    "from tabulate import tabulate\n",
    "from src import plot\n",
    "from src import segnet\n",
    "from src.tiramisu import tiramisu\n",
    "from src.tiramisu import aleatoric_tiramisu\n",
    "from src.tiramisu import epi_approx_tiramisu\n",
    "from src import wrappers\n",
    "%matplotlib inline"
   ]
  },
  {
   "cell_type": "code",
   "execution_count": 2,
   "metadata": {},
   "outputs": [],
   "source": [
    "import random\n",
    "random.seed(1)\n",
    "np.random.seed(1)"
   ]
  },
  {
   "cell_type": "code",
   "execution_count": 3,
   "metadata": {},
   "outputs": [],
   "source": [
    "# the size to crop images to\n",
    "intput_size = (352, 480, 3)"
   ]
  },
  {
   "cell_type": "markdown",
   "metadata": {},
   "source": [
    "# Data"
   ]
  },
  {
   "cell_type": "code",
   "execution_count": 4,
   "metadata": {},
   "outputs": [],
   "source": [
    "X = np.random.randint(low=0, high=256, size=(1, *intput_size))"
   ]
  },
  {
   "cell_type": "markdown",
   "metadata": {},
   "source": [
    "# Build Models"
   ]
  },
  {
   "cell_type": "code",
   "execution_count": 5,
   "metadata": {},
   "outputs": [],
   "source": [
    "def new_keras_session(build_model):\n",
    "    \"\"\"A decorator to clear the Keras session and build a model.\"\"\"\n",
    "    def _new_keras_session(*args, **kwargs):\n",
    "        # clear the Keras session\n",
    "        K.clear_session()\n",
    "        # call the method to build a Keras model\n",
    "        return build_model(*args, **kwargs)\n",
    "    # reset the name of the method to the original name\n",
    "    _new_keras_session.__name__ = build_model.__name__\n",
    "\n",
    "    return _new_keras_session"
   ]
  },
  {
   "cell_type": "code",
   "execution_count": 6,
   "metadata": {},
   "outputs": [],
   "source": [
    "@new_keras_session\n",
    "def build_segnet():\n",
    "    \"\"\"Return a trained SegNet model.\"\"\"\n",
    "    return segnet.segnet(intput_size, 11)"
   ]
  },
  {
   "cell_type": "code",
   "execution_count": 7,
   "metadata": {},
   "outputs": [],
   "source": [
    "@new_keras_session\n",
    "def build_baysiean_segnet():\n",
    "    \"\"\"Return a trained Bayesian SegNet model.\"\"\"\n",
    "    model = segnet.segnet(intput_size, 11, dropout_rate=0.5)\n",
    "    return wrappers.MonteCarlo(model, 50)"
   ]
  },
  {
   "cell_type": "code",
   "execution_count": 8,
   "metadata": {},
   "outputs": [],
   "source": [
    "@new_keras_session\n",
    "def build_tiramisu_45():\n",
    "    \"\"\"Return a trained Tiramisu (103 layers) model.\"\"\"\n",
    "    return tiramisu.tiramisu(intput_size, 11,\n",
    "        growth_rate=12,\n",
    "        layer_sizes=[3, 3, 3, 3, 3],\n",
    "        bottleneck_size=3,\n",
    "    )"
   ]
  },
  {
   "cell_type": "code",
   "execution_count": 9,
   "metadata": {},
   "outputs": [],
   "source": [
    "@new_keras_session\n",
    "def build_tiramisu_56():\n",
    "    \"\"\"Return a trained Tiramisu (103 layers) model.\"\"\"\n",
    "    return tiramisu.tiramisu(intput_size, 11,\n",
    "        growth_rate=12,\n",
    "        layer_sizes=[4, 4, 4, 4, 4],\n",
    "        bottleneck_size=4,\n",
    "    )"
   ]
  },
  {
   "cell_type": "code",
   "execution_count": 10,
   "metadata": {},
   "outputs": [],
   "source": [
    "@new_keras_session\n",
    "def build_tiramisu_67():\n",
    "    \"\"\"Return a trained Tiramisu (103 layers) model.\"\"\"\n",
    "    return tiramisu.tiramisu(intput_size, 11,\n",
    "        growth_rate=16,\n",
    "        layer_sizes=[5, 5, 5, 5, 5],\n",
    "        bottleneck_size=5,\n",
    "    )"
   ]
  },
  {
   "cell_type": "code",
   "execution_count": 11,
   "metadata": {},
   "outputs": [],
   "source": [
    "@new_keras_session\n",
    "def build_tiramisu_103():\n",
    "    \"\"\"Return a trained Tiramisu (103 layers) model.\"\"\"\n",
    "    return tiramisu.tiramisu(intput_size, 11)"
   ]
  },
  {
   "cell_type": "code",
   "execution_count": 12,
   "metadata": {},
   "outputs": [],
   "source": [
    "@new_keras_session\n",
    "def build_aleatoric_tiramisu_103():\n",
    "    \"\"\"Return a trained Tiramisu (103 layers) model.\"\"\"\n",
    "    return aleatoric_tiramisu.aleatoric_tiramisu(intput_size, 11)"
   ]
  },
  {
   "cell_type": "code",
   "execution_count": 13,
   "metadata": {},
   "outputs": [],
   "source": [
    "@new_keras_session\n",
    "def build_epistemic_tiramisu_103():\n",
    "    \"\"\"Return a trained Tiramisu (103 layers) model.\"\"\"\n",
    "    model = tiramisu.tiramisu(intput_size, 11, mc_dropout=True)\n",
    "    return wrappers.MonteCarlo(model, 50)"
   ]
  },
  {
   "cell_type": "code",
   "execution_count": 14,
   "metadata": {},
   "outputs": [],
   "source": [
    "@new_keras_session\n",
    "def build_epistemic_approx_tiramisu_103():\n",
    "    \"\"\"Return a trained Tiramisu (103 layers) model.\"\"\"\n",
    "    return epi_approx_tiramisu.epi_approx_tiramisu(intput_size, 11)"
   ]
  },
  {
   "cell_type": "markdown",
   "metadata": {},
   "source": [
    "# Time Tests"
   ]
  },
  {
   "cell_type": "code",
   "execution_count": 15,
   "metadata": {},
   "outputs": [],
   "source": [
    "def time_test(model, repeat: int=7) -> pd.Series:\n",
    "    \"\"\"\n",
    "    Run a prediction time test for the given model.\n",
    "\n",
    "    Args:\n",
    "        repeat: the number of trials to generate mean and std time\n",
    "\n",
    "    Returns:\n",
    "        a series with the:\n",
    "        - mean of the repeat trials\n",
    "        - standard deviation of the repeat trials\n",
    "\n",
    "    \"\"\"\n",
    "    # run time trials for the number of repetitions + 1\n",
    "    times = timeit.repeat(lambda: model.predict(X), repeat=repeat + 1, number=1)\n",
    "    # throw out the first time that usually is anomalous\n",
    "    times = pd.Series(times[1:])\n",
    "    # return a series with the data\n",
    "    return pd.Series([times.mean(), times.std()], index=['mean', 'std'])"
   ]
  },
  {
   "cell_type": "code",
   "execution_count": 16,
   "metadata": {},
   "outputs": [
    {
     "name": "stderr",
     "output_type": "stream",
     "text": [
      "/users/PMIU0138/miu0212/neural-semantic-segmentation/src/tiramisu/aleatoric_tiramisu.py:86: UserWarning: Output \"sigma\" missing from loss dictionary. We assume this was done on purpose, and we will not be expecting any data to be passed to \"sigma\" during training.\n",
      "  metrics={'softmax': [build_categorical_accuracy(weights=class_weights)]},\n",
      "/users/PMIU0138/miu0212/neural-semantic-segmentation/src/tiramisu/epi_approx_tiramisu.py:72: UserWarning: Output \"entropy\" missing from loss dictionary. We assume this was done on purpose, and we will not be expecting any data to be passed to \"entropy\" during training.\n",
      "  metrics={'tiramisu': [build_categorical_accuracy(weights=class_weights)]},\n"
     ]
    }
   ],
   "source": [
    "# generate a dataframe of results for each model in ms\n",
    "results = pd.DataFrame({\n",
    "    'SegNet': time_test(build_segnet()),\n",
    "    'Bayesian-SegNet': time_test(build_baysiean_segnet()),\n",
    "    'Tiramisu-45': time_test(build_tiramisu_45()),\n",
    "    'Tiramisu-56': time_test(build_tiramisu_56()),\n",
    "    'Tiramisu-67': time_test(build_tiramisu_67()),\n",
    "    'Tiramisu-103': time_test(build_tiramisu_103()),\n",
    "    'Tiramisu-103 (Aleatoric)': time_test(build_aleatoric_tiramisu_103()),\n",
    "    'Tiramisu-103 (Epistemic)': time_test(build_epistemic_tiramisu_103()),\n",
    "    'Tiramisu-103 (Epistemic Approximation)': time_test(build_epistemic_approx_tiramisu_103()),\n",
    "}).T.sort_values('mean').T * 1000\n",
    "results.T.to_csv('models/wall-clock-time-analysis.csv')"
   ]
  },
  {
   "cell_type": "code",
   "execution_count": 17,
   "metadata": {},
   "outputs": [
    {
     "data": {
      "text/html": [
       "<div>\n",
       "<style>\n",
       "    .dataframe thead tr:only-child th {\n",
       "        text-align: right;\n",
       "    }\n",
       "\n",
       "    .dataframe thead th {\n",
       "        text-align: left;\n",
       "    }\n",
       "\n",
       "    .dataframe tbody tr th {\n",
       "        vertical-align: top;\n",
       "    }\n",
       "</style>\n",
       "<table border=\"1\" class=\"dataframe\">\n",
       "  <thead>\n",
       "    <tr style=\"text-align: right;\">\n",
       "      <th></th>\n",
       "      <th>mean</th>\n",
       "      <th>std</th>\n",
       "    </tr>\n",
       "  </thead>\n",
       "  <tbody>\n",
       "    <tr>\n",
       "      <th>SegNet</th>\n",
       "      <td>53.691216</td>\n",
       "      <td>0.331099</td>\n",
       "    </tr>\n",
       "    <tr>\n",
       "      <th>Tiramisu-45</th>\n",
       "      <td>55.461053</td>\n",
       "      <td>1.714660</td>\n",
       "    </tr>\n",
       "    <tr>\n",
       "      <th>Tiramisu-56</th>\n",
       "      <td>76.196948</td>\n",
       "      <td>0.800425</td>\n",
       "    </tr>\n",
       "    <tr>\n",
       "      <th>Tiramisu-67</th>\n",
       "      <td>117.199655</td>\n",
       "      <td>1.196372</td>\n",
       "    </tr>\n",
       "    <tr>\n",
       "      <th>Tiramisu-103</th>\n",
       "      <td>119.834548</td>\n",
       "      <td>0.463746</td>\n",
       "    </tr>\n",
       "    <tr>\n",
       "      <th>Tiramisu-103 (Epistemic Approximation)</th>\n",
       "      <td>121.677694</td>\n",
       "      <td>1.838765</td>\n",
       "    </tr>\n",
       "    <tr>\n",
       "      <th>Tiramisu-103 (Aleatoric)</th>\n",
       "      <td>137.432888</td>\n",
       "      <td>1.240590</td>\n",
       "    </tr>\n",
       "    <tr>\n",
       "      <th>Bayesian-SegNet</th>\n",
       "      <td>3460.010220</td>\n",
       "      <td>15.644349</td>\n",
       "    </tr>\n",
       "    <tr>\n",
       "      <th>Tiramisu-103 (Epistemic)</th>\n",
       "      <td>7326.041287</td>\n",
       "      <td>48.107051</td>\n",
       "    </tr>\n",
       "  </tbody>\n",
       "</table>\n",
       "</div>"
      ],
      "text/plain": [
       "                                               mean        std\n",
       "SegNet                                    53.691216   0.331099\n",
       "Tiramisu-45                               55.461053   1.714660\n",
       "Tiramisu-56                               76.196948   0.800425\n",
       "Tiramisu-67                              117.199655   1.196372\n",
       "Tiramisu-103                             119.834548   0.463746\n",
       "Tiramisu-103 (Epistemic Approximation)   121.677694   1.838765\n",
       "Tiramisu-103 (Aleatoric)                 137.432888   1.240590\n",
       "Bayesian-SegNet                         3460.010220  15.644349\n",
       "Tiramisu-103 (Epistemic)                7326.041287  48.107051"
      ]
     },
     "execution_count": 17,
     "metadata": {},
     "output_type": "execute_result"
    }
   ],
   "source": [
    "results.T"
   ]
  },
  {
   "cell_type": "code",
   "execution_count": 18,
   "metadata": {},
   "outputs": [
    {
     "name": "stdout",
     "output_type": "stream",
     "text": [
      "| Model                                  |   Mean (ms) |   SD. (ms) |\n",
      "|:---------------------------------------|------------:|-----------:|\n",
      "| SegNet                                 |     53.6912 |   0.331099 |\n",
      "| Tiramisu-45                            |     55.4611 |   1.71466  |\n",
      "| Tiramisu-56                            |     76.1969 |   0.800425 |\n",
      "| Tiramisu-67                            |    117.2    |   1.19637  |\n",
      "| Tiramisu-103                           |    119.835  |   0.463746 |\n",
      "| Tiramisu-103 (Epistemic Approximation) |    121.678  |   1.83877  |\n",
      "| Tiramisu-103 (Aleatoric)               |    137.433  |   1.24059  |\n",
      "| Bayesian-SegNet                        |   3460.01   |  15.6443   |\n",
      "| Tiramisu-103 (Epistemic)               |   7326.04   |  48.1071   |\n"
     ]
    }
   ],
   "source": [
    "print(tabulate(results.T, tablefmt='pipe', headers=('Model', 'Mean (ms)', 'SD. (ms)')))"
   ]
  },
  {
   "cell_type": "code",
   "execution_count": 19,
   "metadata": {},
   "outputs": [
    {
     "data": {
      "image/png": "[encoded data removed]",
      "text/plain": [
       "<Figure size 1152x576 with 1 Axes>"
      ]
     },
     "metadata": {},
     "output_type": "display_data"
    }
   ],
   "source": [
    "models = ['SegNet', 'Tiramisu-45', 'Tiramisu-56', 'Tiramisu-67', 'Tiramisu-103']\n",
    "ax = results[models].plot.box(figsize=(16, 8))\n",
    "ax.set_xlabel('Model')\n",
    "ax.set_ylabel('Wall Clock Time (ms)')\n",
    "ax.set_title('Prediction Time of Segmentation Models (Deterministic Inference) on Images of Size 352 x 480')\n",
    "plt.savefig('img/inference-time.png', transparent=True, bbox_inches='tight')"
   ]
  },
  {
   "cell_type": "code",
   "execution_count": 20,
   "metadata": {},
   "outputs": [
    {
     "data": {
      "image/png": "[encoded data removed]",
      "text/plain": [
       "<Figure size 1152x576 with 1 Axes>"
      ]
     },
     "metadata": {},
     "output_type": "display_data"
    }
   ],
   "source": [
    "bayesian = ['Bayesian-SegNet', 'Tiramisu-103 (Epistemic)']\n",
    "ax = results[bayesian].plot.box(figsize=(16, 8))\n",
    "ax.set_xlabel('Model')\n",
    "ax.set_ylabel('Wall Clock Time (ms)')\n",
    "ax.set_title('Prediction Time of Segmentation Models (Monte Carlo Dropout) on Images of Size 352 x 480')\n",
    "plt.savefig('img/inference-time-mc-dropout.png', transparent=True, bbox_inches='tight')"
   ]
  },
  {
   "cell_type": "markdown",
   "metadata": {},
   "source": [
    " "
   ]
  }
 ],
 "metadata": {
  "kernelspec": {
   "display_name": "Python 3.6 [python/3.6 cuda/8.0.44]",
   "language": "python",
   "name": "sys_python36"
  },
  "language_info": {
   "codemirror_mode": {
    "name": "ipython",
    "version": 3
   },
   "file_extension": ".py",
   "mimetype": "text/x-python",
   "name": "python",
   "nbconvert_exporter": "python",
   "pygments_lexer": "ipython3",
   "version": "3.6.3"
  }
 },
 "nbformat": 4,
 "nbformat_minor": 2
}
