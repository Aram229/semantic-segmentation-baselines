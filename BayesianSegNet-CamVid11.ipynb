{
 "cells": [
  {
   "cell_type": "code",
   "execution_count": null,
   "metadata": {
    "scrolled": true
   },
   "outputs": [],
   "source": [
    "%matplotlib inline\n",
    "import matplotlib.pyplot as plt\n",
    "plt.style.use('dark_background')\n",
    "import pandas as pd\n",
    "from livelossplot import PlotLossesKeras\n",
    "from keras.callbacks import EarlyStopping\n",
    "from keras.callbacks import ModelCheckpoint\n",
    "from src import camvid\n",
    "from src import segnet\n",
    "from src.utils import history_to_results\n",
    "from src.utils import heatmap"
   ]
  },
  {
   "cell_type": "code",
   "execution_count": null,
   "metadata": {},
   "outputs": [],
   "source": [
    "!mkdir -p models\n",
    "weights_file = 'models/BayesianSegNet-CamVid11.h5'"
   ]
  },
  {
   "cell_type": "code",
   "execution_count": null,
   "metadata": {},
   "outputs": [],
   "source": [
    "mapping = pd.read_table('11_class.txt', sep=r'\\s+', names=['og', 'new'], index_col='og')['new'].to_dict()\n",
    "mapping"
   ]
  },
  {
   "cell_type": "code",
   "execution_count": null,
   "metadata": {},
   "outputs": [],
   "source": [
    "batch_size = 8\n",
    "# the size to reshape images to before transformation\n",
    "target_size = (360, 480)\n",
    "# the size to crop images to\n",
    "crop_size = (352, 480)"
   ]
  },
  {
   "cell_type": "code",
   "execution_count": null,
   "metadata": {},
   "outputs": [],
   "source": [
    "# all crop dimensions must be divisible by this value due \n",
    "# to the requirement of equal shapes between downsampling \n",
    "# outputs and upsampling inputs imposed by the concatenation\n",
    "# in skip link connections\n",
    "divisible_by = int(2**5)\n",
    "# iterate over all the crop dimensions\n",
    "for dim in crop_size:\n",
    "    # raise error if the dimension has a remainder when divided\n",
    "    if dim % divisible_by:\n",
    "        f = 'crop dimension ({}) must be divisible by {}'\n",
    "        f = f.format(dim, divisible_by)\n",
    "        raise ValueError(f)"
   ]
  },
  {
   "cell_type": "markdown",
   "metadata": {},
   "source": [
    "# Training"
   ]
  },
  {
   "cell_type": "code",
   "execution_count": null,
   "metadata": {},
   "outputs": [],
   "source": [
    "camvid11 = camvid.CamVid(mapping=mapping, target_size=target_size, crop_size=crop_size, batch_size=batch_size)\n",
    "generators = camvid11.generators()"
   ]
  },
  {
   "cell_type": "code",
   "execution_count": null,
   "metadata": {
    "scrolled": false
   },
   "outputs": [],
   "source": [
    "# get the next X, y training tuple\n",
    "X, y = next(generators['train'])\n",
    "# transform the onehot vector to an image\n",
    "y = camvid11.unmap(y)\n",
    "# plot the images\n",
    "camvid.plot(X=X[0], y=y[0])"
   ]
  },
  {
   "cell_type": "code",
   "execution_count": null,
   "metadata": {
    "scrolled": true
   },
   "outputs": [],
   "source": [
    "# build the model for the image shape and number of labels\n",
    "model = segnet.build_segnet((*crop_size, 3), camvid11.n, \n",
    "    label_names=camvid11.discrete_to_label_map,\n",
    "    class_weights=camvid11.class_weights,\n",
    "    dropout_rate=0.5,\n",
    ")\n",
    "model.summary()"
   ]
  },
  {
   "cell_type": "code",
   "execution_count": null,
   "metadata": {},
   "outputs": [],
   "source": [
    "# create the callbacks for the training procedure\n",
    "callbacks = [\n",
    "    PlotLossesKeras(),\n",
    "    EarlyStopping(monitor='loss', patience=10),\n",
    "    ModelCheckpoint(weights_file, \n",
    "        monitor='loss', \n",
    "        save_best_only=True, \n",
    "        save_weights_only=True, \n",
    "        mode='min'\n",
    "    ),\n",
    "]"
   ]
  },
  {
   "cell_type": "code",
   "execution_count": null,
   "metadata": {
    "scrolled": false
   },
   "outputs": [],
   "source": [
    "# fit the model with the data. divide the steps per epoch by the \n",
    "# batch size (which is 3 in this case)\n",
    "history = model.fit_generator(generators['train'],\n",
    "    epochs=200,\n",
    "    steps_per_epoch=int(367 / batch_size),\n",
    "    validation_data=generators['val'],\n",
    "    validation_steps=101,\n",
    "    callbacks=callbacks,\n",
    "    verbose=0\n",
    ")"
   ]
  },
  {
   "cell_type": "code",
   "execution_count": null,
   "metadata": {},
   "outputs": [],
   "source": [
    "history_to_results(history)"
   ]
  },
  {
   "cell_type": "markdown",
   "metadata": {},
   "source": [
    "## Load Best Model"
   ]
  },
  {
   "cell_type": "code",
   "execution_count": null,
   "metadata": {},
   "outputs": [],
   "source": [
    "model.load_weights(weights_file)"
   ]
  },
  {
   "cell_type": "markdown",
   "metadata": {},
   "source": [
    "# Test Metrics"
   ]
  },
  {
   "cell_type": "code",
   "execution_count": null,
   "metadata": {},
   "outputs": [],
   "source": [
    "# wrap the SegNet with a MonteCarlo estimator of mean and variance\n",
    "bayesian_model = segnet.wrap_uncertainty(model)\n",
    "bayesian_model.summary()"
   ]
  },
  {
   "cell_type": "code",
   "execution_count": null,
   "metadata": {
    "scrolled": false
   },
   "outputs": [],
   "source": [
    "metrics = bayesian_model.evaluate_generator(generators['test'], steps=233)\n",
    "names = bayesian_model.metrics_names\n",
    "pd.DataFrame(metrics, names, columns=['val'])"
   ]
  },
  {
   "cell_type": "markdown",
   "metadata": {},
   "source": [
    "# Qualitative Results"
   ]
  },
  {
   "cell_type": "code",
   "execution_count": null,
   "metadata": {},
   "outputs": [],
   "source": [
    "def predict(generator):\n",
    "    X, y = next(generator)\n",
    "    p, s = bayesian_model.predict(X)\n",
    "    return X, camvid11.unmap(y), camvid11.unmap(p), heatmap(s)"
   ]
  },
  {
   "cell_type": "markdown",
   "metadata": {},
   "source": [
    "### Train Results"
   ]
  },
  {
   "cell_type": "code",
   "execution_count": null,
   "metadata": {
    "scrolled": false
   },
   "outputs": [],
   "source": [
    "X, y, p, s = predict(generators['train'])"
   ]
  },
  {
   "cell_type": "code",
   "execution_count": null,
   "metadata": {},
   "outputs": [],
   "source": [
    "camvid.plot(X=X[0], y=y[0], y_pred=p[0], uncertainty=s[0])"
   ]
  },
  {
   "cell_type": "code",
   "execution_count": null,
   "metadata": {},
   "outputs": [],
   "source": [
    "camvid.plot(X=X[1], y=y[1], y_pred=p[1], uncertainty=s[1])"
   ]
  },
  {
   "cell_type": "code",
   "execution_count": null,
   "metadata": {},
   "outputs": [],
   "source": [
    "camvid.plot(X=X[2], y=y[2], y_pred=p[2], uncertainty=s[2])"
   ]
  },
  {
   "cell_type": "code",
   "execution_count": null,
   "metadata": {},
   "outputs": [],
   "source": [
    "camvid.plot(X=X[3], y=y[3], y_pred=p[3], uncertainty=s[3])"
   ]
  },
  {
   "cell_type": "markdown",
   "metadata": {},
   "source": [
    "### Validation Results"
   ]
  },
  {
   "cell_type": "code",
   "execution_count": null,
   "metadata": {},
   "outputs": [],
   "source": [
    "X, y, p, s = predict(generators['val'])\n",
    "camvid.plot(X=X[0], y=y[0], y_pred=p[0], uncertainty=s[0])"
   ]
  },
  {
   "cell_type": "code",
   "execution_count": null,
   "metadata": {},
   "outputs": [],
   "source": [
    "X, y, p, s = predict(generators['val'])\n",
    "camvid.plot(X=X[0], y=y[0], y_pred=p[0], uncertainty=s[0])"
   ]
  },
  {
   "cell_type": "code",
   "execution_count": null,
   "metadata": {},
   "outputs": [],
   "source": [
    "X, y, p, s = predict(generators['val'])\n",
    "camvid.plot(X=X[0], y=y[0], y_pred=p[0], uncertainty=s[0])"
   ]
  },
  {
   "cell_type": "code",
   "execution_count": null,
   "metadata": {},
   "outputs": [],
   "source": [
    "X, y, p, s = predict(generators['val'])\n",
    "camvid.plot(X=X[0], y=y[0], y_pred=p[0], uncertainty=s[0])"
   ]
  },
  {
   "cell_type": "markdown",
   "metadata": {},
   "source": [
    "### Test Results"
   ]
  },
  {
   "cell_type": "code",
   "execution_count": null,
   "metadata": {},
   "outputs": [],
   "source": [
    "X, y, p, s = predict(generators['test'])\n",
    "camvid.plot(X=X[0], y=y[0], y_pred=p[0], uncertainty=s[0])"
   ]
  },
  {
   "cell_type": "code",
   "execution_count": null,
   "metadata": {},
   "outputs": [],
   "source": [
    "X, y, p, s = predict(generators['test'])\n",
    "camvid.plot(X=X[0], y=y[0], y_pred=p[0], uncertainty=s[0])"
   ]
  },
  {
   "cell_type": "code",
   "execution_count": null,
   "metadata": {},
   "outputs": [],
   "source": [
    "X, y, p, s = predict(generators['test'])\n",
    "camvid.plot(X=X[0], y=y[0], y_pred=p[0], uncertainty=s[0])"
   ]
  },
  {
   "cell_type": "code",
   "execution_count": null,
   "metadata": {},
   "outputs": [],
   "source": [
    "X, y, p, s = predict(generators['test'])\n",
    "camvid.plot(X=X[0], y=y[0], y_pred=p[0], uncertainty=s[0])"
   ]
  },
  {
   "cell_type": "markdown",
   "metadata": {},
   "source": [
    " "
   ]
  }
 ],
 "metadata": {
  "kernelspec": {
   "display_name": "Python 3",
   "language": "python",
   "name": "python3"
  },
  "language_info": {
   "codemirror_mode": {
    "name": "ipython",
    "version": 3
   },
   "file_extension": ".py",
   "mimetype": "text/x-python",
   "name": "python",
   "nbconvert_exporter": "python",
   "pygments_lexer": "ipython3",
   "version": "3.5.2"
  }
 },
 "nbformat": 4,
 "nbformat_minor": 2
}
