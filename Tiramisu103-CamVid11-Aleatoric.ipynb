{
 "cells": [
  {
   "cell_type": "code",
   "execution_count": null,
   "metadata": {
    "scrolled": true
   },
   "outputs": [],
   "source": [
    "import pandas as pd\n",
    "from keras.callbacks import EarlyStopping\n",
    "from keras.callbacks import LearningRateScheduler\n",
    "from keras.callbacks import ModelCheckpoint\n",
    "from tabulate import tabulate\n",
    "from src.datasets import camvid\n",
    "from src import evaluate\n",
    "from src import plot\n",
    "from src import predict\n",
    "from src import predict_video\n",
    "from src.tiramisu import aleatoric_tiramisu\n",
    "from src.tiramisu import tiramisu\n",
    "from src.callbacks import PlotMetrics\n",
    "from src.utils import history_to_results\n",
    "%matplotlib inline"
   ]
  },
  {
   "cell_type": "code",
   "execution_count": null,
   "metadata": {},
   "outputs": [],
   "source": [
    "# the location to save coarse training weights to\n",
    "pretrain_weights = 'models/Tiramisu103-CamVid11-fine.h5'\n",
    "# the location to save fine training weights to\n",
    "weights_file = 'models/Tiramisu103-CamVid11-Aleatoric.h5'"
   ]
  },
  {
   "cell_type": "code",
   "execution_count": null,
   "metadata": {},
   "outputs": [],
   "source": [
    "# the size to crop images to for fine tune training\n",
    "crop_size = (352, 480)\n",
    "# the size of batches to use for training\n",
    "batch_size = 1"
   ]
  },
  {
   "cell_type": "code",
   "execution_count": null,
   "metadata": {},
   "outputs": [],
   "source": [
    "camvid11 = camvid.CamVid(\n",
    "    mapping=camvid.CamVid.load_mapping(),\n",
    "    target_size=(360, 480),\n",
    "    crop_size=crop_size,\n",
    "    batch_size=batch_size,\n",
    "    horizontal_flip=True,\n",
    "    ignored_labels=['Void'],\n",
    "    y_repeats=1,\n",
    ")\n",
    "generators = camvid11.generators()"
   ]
  },
  {
   "cell_type": "code",
   "execution_count": null,
   "metadata": {
    "scrolled": false
   },
   "outputs": [],
   "source": [
    "# get the next X, y training tuple\n",
    "X, y = next(generators['train'])\n",
    "# transform the onehot vector to an image\n",
    "y = camvid11.unmap(y[0])\n",
    "# plot the images\n",
    "_ = plot.plot(X=X[0], y=y[0], order=['X', 'y'])"
   ]
  },
  {
   "cell_type": "code",
   "execution_count": null,
   "metadata": {},
   "outputs": [],
   "source": [
    "# build the model for the image shape and number of labels\n",
    "model = aleatoric_tiramisu.aleatoric_tiramisu((*crop_size, 3), camvid11.n,\n",
    "    class_weights=camvid11.class_mask,\n",
    "    learning_rate=1e-4,\n",
    "    weights_file=pretrain_weights,\n",
    ")\n",
    "model.summary()"
   ]
  },
  {
   "cell_type": "code",
   "execution_count": null,
   "metadata": {},
   "outputs": [],
   "source": [
    "callbacks = [\n",
    "    EarlyStopping(monitor='val_aleatoric_loss', patience=10),\n",
    "    ModelCheckpoint(weights_file,\n",
    "        monitor='val_aleatoric_loss',\n",
    "        save_best_only=True,\n",
    "        save_weights_only=True,\n",
    "        mode='min'\n",
    "    ),\n",
    "    PlotMetrics(),\n",
    "]"
   ]
  },
  {
   "cell_type": "code",
   "execution_count": null,
   "metadata": {
    "scrolled": false
   },
   "outputs": [],
   "source": [
    "# fit the model with the data.\n",
    "history = model.fit_generator(generators['train'],\n",
    "    epochs=100,\n",
    "    steps_per_epoch=int(367 / batch_size),\n",
    "    validation_data=generators['val'],\n",
    "    validation_steps=101,\n",
    "    callbacks=callbacks,\n",
    "    verbose=0,\n",
    ")"
   ]
  },
  {
   "cell_type": "code",
   "execution_count": null,
   "metadata": {},
   "outputs": [],
   "source": [
    "history_to_results(history)"
   ]
  },
  {
   "cell_type": "markdown",
   "metadata": {},
   "source": [
    "## Test Metrics"
   ]
  },
  {
   "cell_type": "code",
   "execution_count": null,
   "metadata": {},
   "outputs": [],
   "source": [
    "model.load_weights(weights_file)"
   ]
  },
  {
   "cell_type": "code",
   "execution_count": null,
   "metadata": {},
   "outputs": [],
   "source": [
    "metrics = evaluate.evaluate(model, generators['test'], 233,\n",
    "    mask=camvid11.class_mask, \n",
    "    code_map=camvid11.discrete_to_label_map,\n",
    ")\n",
    "metrics.to_csv(weights_file + '.csv')\n",
    "metrics"
   ]
  },
  {
   "cell_type": "code",
   "execution_count": null,
   "metadata": {},
   "outputs": [],
   "source": [
    "print(tabulate(metrics, tablefmt='pipe', headers=('Metric', 'Value')))"
   ]
  },
  {
   "cell_type": "markdown",
   "metadata": {},
   "source": [
    "## Qualitative Results"
   ]
  },
  {
   "cell_type": "markdown",
   "metadata": {},
   "source": [
    "### Train"
   ]
  },
  {
   "cell_type": "code",
   "execution_count": null,
   "metadata": {},
   "outputs": [],
   "source": [
    "X, y, p, s = predict.predict_aleatoric(model, generators['train'], camvid11)\n",
    "_ = plot.plot(X=X[0], y=y[0], y_pred=p[0], aleatoric=s[0], order=['X', 'y', 'y_pred', 'aleatoric'])"
   ]
  },
  {
   "cell_type": "code",
   "execution_count": null,
   "metadata": {},
   "outputs": [],
   "source": [
    "X, y, p, s = predict.predict_aleatoric(model, generators['train'], camvid11)\n",
    "_ = plot.plot(X=X[0], y=y[0], y_pred=p[0], aleatoric=s[0], order=['X', 'y', 'y_pred', 'aleatoric'])"
   ]
  },
  {
   "cell_type": "code",
   "execution_count": null,
   "metadata": {},
   "outputs": [],
   "source": [
    "X, y, p, s = predict.predict_aleatoric(model, generators['train'], camvid11)\n",
    "_ = plot.plot(X=X[0], y=y[0], y_pred=p[0], aleatoric=s[0], order=['X', 'y', 'y_pred', 'aleatoric'])"
   ]
  },
  {
   "cell_type": "code",
   "execution_count": null,
   "metadata": {},
   "outputs": [],
   "source": [
    "X, y, p, s = predict.predict_aleatoric(model, generators['train'], camvid11)\n",
    "_ = plot.plot(X=X[0], y=y[0], y_pred=p[0], aleatoric=s[0], order=['X', 'y', 'y_pred', 'aleatoric'])"
   ]
  },
  {
   "cell_type": "markdown",
   "metadata": {},
   "source": [
    "### Validation"
   ]
  },
  {
   "cell_type": "code",
   "execution_count": null,
   "metadata": {},
   "outputs": [],
   "source": [
    "X, y, p, s = predict.predict_aleatoric(model, generators['val'], camvid11)\n",
    "_ = plot.plot(X=X[0], y=y[0], y_pred=p[0], aleatoric=s[0], order=['X', 'y', 'y_pred', 'aleatoric'])"
   ]
  },
  {
   "cell_type": "code",
   "execution_count": null,
   "metadata": {},
   "outputs": [],
   "source": [
    "X, y, p, s = predict.predict_aleatoric(model, generators['val'], camvid11)\n",
    "_ = plot.plot(X=X[0], y=y[0], y_pred=p[0], aleatoric=s[0], order=['X', 'y', 'y_pred', 'aleatoric'])"
   ]
  },
  {
   "cell_type": "code",
   "execution_count": null,
   "metadata": {},
   "outputs": [],
   "source": [
    "X, y, p, s = predict.predict_aleatoric(model, generators['val'], camvid11)\n",
    "_ = plot.plot(X=X[0], y=y[0], y_pred=p[0], aleatoric=s[0], order=['X', 'y', 'y_pred', 'aleatoric'])"
   ]
  },
  {
   "cell_type": "code",
   "execution_count": null,
   "metadata": {},
   "outputs": [],
   "source": [
    "X, y, p, s = predict.predict_aleatoric(model, generators['val'], camvid11)\n",
    "_ = plot.plot(X=X[0], y=y[0], y_pred=p[0], aleatoric=s[0], order=['X', 'y', 'y_pred', 'aleatoric'])"
   ]
  },
  {
   "cell_type": "markdown",
   "metadata": {},
   "source": [
    "### Test"
   ]
  },
  {
   "cell_type": "code",
   "execution_count": null,
   "metadata": {},
   "outputs": [],
   "source": [
    "X, y, p, s = predict.predict_aleatoric(model, generators['test'], camvid11)\n",
    "fig = plot.plot(X=X[0], y=y[0], y_pred=p[0], aleatoric=s[0], order=['X', 'y', 'y_pred', 'aleatoric'])\n",
    "fig.savefig('img/tiramisu-bayesian/aleatoric/0.png', transparent=True, bbox_inches='tight')"
   ]
  },
  {
   "cell_type": "code",
   "execution_count": null,
   "metadata": {},
   "outputs": [],
   "source": [
    "X, y, p, s = predict.predict_aleatoric(model, generators['test'], camvid11)\n",
    "fig = plot.plot(X=X[0], y=y[0], y_pred=p[0], aleatoric=s[0], order=['X', 'y', 'y_pred', 'aleatoric'])\n",
    "fig.savefig('img/tiramisu-bayesian/aleatoric/1.png', transparent=True, bbox_inches='tight')"
   ]
  },
  {
   "cell_type": "code",
   "execution_count": null,
   "metadata": {},
   "outputs": [],
   "source": [
    "X, y, p, s = predict.predict_aleatoric(model, generators['test'], camvid11)\n",
    "fig = plot.plot(X=X[0], y=y[0], y_pred=p[0], aleatoric=s[0], order=['X', 'y', 'y_pred', 'aleatoric'])\n",
    "fig.savefig('img/tiramisu-bayesian/aleatoric/2.png', transparent=True, bbox_inches='tight')"
   ]
  },
  {
   "cell_type": "code",
   "execution_count": null,
   "metadata": {},
   "outputs": [],
   "source": [
    "X, y, p, s = predict.predict_aleatoric(model, generators['test'], camvid11)\n",
    "fig = plot.plot(X=X[0], y=y[0], y_pred=p[0], aleatoric=s[0], order=['X', 'y', 'y_pred', 'aleatoric'])\n",
    "fig.savefig('img/tiramisu-bayesian/aleatoric/3.png', transparent=True, bbox_inches='tight')"
   ]
  },
  {
   "cell_type": "markdown",
   "metadata": {},
   "source": [
    "# Video"
   ]
  },
  {
   "cell_type": "code",
   "execution_count": null,
   "metadata": {},
   "outputs": [],
   "source": [
    "video_file = '0005VD.mp4'\n",
    "video_path = camvid.videos.abs_path(video_file)\n",
    "out_path = 'img/tiramisu-bayesian/aleatoric/{}'.format(video_file)"
   ]
  },
  {
   "cell_type": "code",
   "execution_count": null,
   "metadata": {},
   "outputs": [],
   "source": [
    "predict_video.predict_video(video_path, out_path, camvid11, model, predict.predict_aleatoric)"
   ]
  },
  {
   "cell_type": "markdown",
   "metadata": {},
   "source": [
    " "
   ]
  }
 ],
 "metadata": {
  "kernelspec": {
   "display_name": "Python 3",
   "language": "python",
   "name": "python3"
  },
  "language_info": {
   "codemirror_mode": {
    "name": "ipython",
    "version": 3
   },
   "file_extension": ".py",
   "mimetype": "text/x-python",
   "name": "python",
   "nbconvert_exporter": "python",
   "pygments_lexer": "ipython3",
   "version": "3.6.4"
  }
 },
 "nbformat": 4,
 "nbformat_minor": 2
}
