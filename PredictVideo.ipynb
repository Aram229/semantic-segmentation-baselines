{
 "cells": [
  {
   "cell_type": "code",
   "execution_count": null,
   "metadata": {
    "scrolled": true
   },
   "outputs": [],
   "source": [
    "import imageio\n",
    "import numpy as np\n",
    "import pandas as pd\n",
    "from skimage import transform\n",
    "from IPython import display\n",
    "from matplotlib import pyplot as plt\n",
    "from src import camvid\n",
    "from src import tiramisu\n",
    "from src.utils import heatmap\n",
    "from src.wrappers import MonteCarlo\n",
    "%matplotlib inline\n",
    "plt.style.use('dark_background')"
   ]
  },
  {
   "cell_type": "code",
   "execution_count": null,
   "metadata": {},
   "outputs": [],
   "source": [
    "mapping = pd.read_table('11_class.txt', sep=r'\\s+', names=['og', 'new'], index_col='og')['new'].to_dict()\n",
    "camvid11 = camvid.CamVid(mapping=mapping)"
   ]
  },
  {
   "cell_type": "code",
   "execution_count": null,
   "metadata": {},
   "outputs": [],
   "source": [
    "video_file = 'camvid/0005VD.mp4'\n",
    "video_file"
   ]
  },
  {
   "cell_type": "code",
   "execution_count": null,
   "metadata": {
    "scrolled": true
   },
   "outputs": [],
   "source": [
    "out_file = video_file.split('.')[0] + '_pred.mp4'\n",
    "out_file"
   ]
  },
  {
   "cell_type": "code",
   "execution_count": null,
   "metadata": {},
   "outputs": [],
   "source": [
    "reader = imageio.get_reader(video_file)"
   ]
  },
  {
   "cell_type": "code",
   "execution_count": null,
   "metadata": {},
   "outputs": [],
   "source": [
    "og_shape = reader.get_data(0).shape\n",
    "og_shape"
   ]
  },
  {
   "cell_type": "code",
   "execution_count": null,
   "metadata": {},
   "outputs": [],
   "source": [
    "image_shape = (352, 480, 3)\n",
    "image_shape"
   ]
  },
  {
   "cell_type": "code",
   "execution_count": null,
   "metadata": {},
   "outputs": [],
   "source": [
    "# build the model for the image shape and number of labels\n",
    "model = tiramisu.build_epistemic_tiramisu(image_shape, camvid11.n)\n",
    "model.layers[1].load_weights('models/Tiramisu103-CamVid11-fine.h5')"
   ]
  },
  {
   "cell_type": "code",
   "execution_count": null,
   "metadata": {},
   "outputs": [],
   "source": [
    "def predict(frame) -> tuple:\n",
    "    \"\"\"\n",
    "    Return post-processed predictions for the given frame.\n",
    "\n",
    "    Args:\n",
    "        frame: the frame to predict\n",
    "\n",
    "    Returns:\n",
    "        a tuple of for NumPy tensors with RGB data:\n",
    "        - the unmapped RGB predicted mean values from the model\n",
    "        - the meatmap RGB values of the model variance\n",
    "\n",
    "    \"\"\"\n",
    "    # predict mean values and variance\n",
    "    X = frame[None, ...]\n",
    "    u, s2 = model.predict(X)\n",
    "    # normalize the uncertainty\n",
    "    s2 = plt.Normalize()(s2)\n",
    "    # return X values, unmapped u values, and heatmap of s2\n",
    "    return camvid11.unmap(u)[0], heatmap(s2, 'afmhot')[0]"
   ]
  },
  {
   "cell_type": "code",
   "execution_count": null,
   "metadata": {
    "scrolled": false
   },
   "outputs": [],
   "source": [
    "writer = imageio.get_writer(out_file)\n",
    "\n",
    "\n",
    "for frame in reader:\n",
    "    # resize the image to the acceptable size for the\n",
    "    # model\n",
    "    X = transform.resize(frame, image_shape,\n",
    "        anti_aliasing=False,\n",
    "        mode='symmetric',\n",
    "        clip=False,\n",
    "        preserve_range=True,\n",
    "    )\n",
    "    # predict mean and variance of the frame\n",
    "    u, s2 = predict(X)\n",
    "    h, w, c = image_shape\n",
    "    # convert the three images into a singular image\n",
    "    image = np.zeros((h, w * 3, c), dtype='uint8')\n",
    "    image[:, 0:w, :] = X\n",
    "    image[:, w:2*w, :] = u\n",
    "    image[:, 2*w:3*w, :] = s2\n",
    "    # save the image to the stream\n",
    "    writer.append_data(image)\n",
    "\n",
    "\n",
    "writer.close()"
   ]
  },
  {
   "cell_type": "markdown",
   "metadata": {},
   "source": [
    " "
   ]
  }
 ],
 "metadata": {
  "kernelspec": {
   "display_name": "Python 3",
   "language": "python",
   "name": "python3"
  },
  "language_info": {
   "codemirror_mode": {
    "name": "ipython",
    "version": 3
   },
   "file_extension": ".py",
   "mimetype": "text/x-python",
   "name": "python",
   "nbconvert_exporter": "python",
   "pygments_lexer": "ipython3",
   "version": "3.6.4"
  }
 },
 "nbformat": 4,
 "nbformat_minor": 2
}
